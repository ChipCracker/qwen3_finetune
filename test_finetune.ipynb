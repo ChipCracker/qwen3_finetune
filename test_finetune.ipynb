{
 "cells": [
  {
   "cell_type": "code",
   "execution_count": null,
   "id": "initial_id",
   "metadata": {
    "collapsed": true
   },
   "outputs": [],
   "source": [
    ""
   ]
  },
  {
   "metadata": {
    "ExecuteTime": {
     "end_time": "2025-05-15T10:25:15.003242Z",
     "start_time": "2025-05-15T10:25:13.727686Z"
    }
   },
   "cell_type": "code",
   "source": [
    "import psutil\n",
    "import os\n",
    "import time\n",
    "from transformers import AutoTokenizer, AutoModelForCausalLM, BitsAndBytesConfig\n",
    "\n",
    "process = psutil.Process(os.getpid())\n",
    "\n",
    "def print_ram():\n",
    "    mem = process.memory_info().rss / (1024 ** 2)\n",
    "    print(f\"RAM usage: {mem:.2f} MB\")\n",
    "\n",
    "# Lokaler Pfad zu deinem gefinetunten Modell-Checkpoint (das Output-Verzeichnis vom Training)\n",
    "MODEL_PATH = \"qwen3-finetune/checkpoint-310\"  # ggf. anpassen\n",
    "\n",
    "# Prompt (gleicher Stil wie beim Finetuning!)\n",
    "input_text = \"Drive 10 meters forward pwease\"\n",
    "system_prompt = \"<|im_start|>system\\nYou are a helpful assistant.<|im_end|>\\n\"\n",
    "user_prompt = f\"<|im_start|>user\\n{input_text}<|im_end|>\\n\"\n",
    "full_prompt = system_prompt + user_prompt + \"<|im_start|>assistant\\n\"\n",
    "\n",
    "print_ram()\n",
    "# Model und Tokenizer laden\n",
    "tokenizer = AutoTokenizer.from_pretrained(MODEL_PATH, trust_remote_code=True)\n",
    "\n",
    "#quantization_config = BitsAndBytesConfig(\n",
    "#    load_in_4bit=True,                   # oder load_in_8bit=True\n",
    "#    bnb_4bit_use_double_quant=True,\n",
    "#    bnb_4bit_quant_type=\"nf4\",           # oft: \"nf4\" oder \"fp4\"\n",
    "#    bnb_4bit_compute_dtype=\"float16\",    # float16 ist Standard\n",
    "#)\n",
    "\n",
    "quantization_config = BitsAndBytesConfig(\n",
    "    load_in_8bit=True\n",
    ")\n",
    "\n",
    "model = AutoModelForCausalLM.from_pretrained(\n",
    "    MODEL_PATH,\n",
    "    device_map=\"auto\",\n",
    "    #quantization_config=quantization_config,\n",
    "    trust_remote_code=True,\n",
    ")\n",
    "\n",
    "# Tokenisieren\n",
    "inputs = tokenizer(full_prompt, return_tensors=\"pt\").to(model.device)\n",
    "\n",
    "# Generieren\n",
    "output = model.generate(\n",
    "    **inputs,\n",
    "    max_new_tokens=128,            # wieviel Text soll generiert werden?\n",
    "    temperature=0.7,               # Kreativität/Randomness\n",
    "    do_sample=True,                # Sampling statt Greedy\n",
    "    top_p=0.9,                     # Nucleus Sampling\n",
    "    eos_token_id=tokenizer.eos_token_id\n",
    ")\n",
    "\n",
    "print_ram()\n",
    "# Antwort dekodieren (nur den Assistant-Part extrahieren)\n",
    "decoded = tokenizer.decode(output[0], skip_special_tokens=False)\n",
    "\n",
    "# Nur den generierten Text NACH dem \"<|im_start|>assistant\\n\" anzeigen:\n",
    "if \"<|im_start|>assistant\\n\" in decoded:\n",
    "    answer = decoded.split(\"<|im_start|>assistant\\n\", 1)[1]\n",
    "    # Optional: alles hinter einem evtl. \"<|im_end|>\" abschneiden\n",
    "    answer = answer.split(\"<|im_end|>\", 1)[0].strip()\n",
    "else:\n",
    "    answer = decoded\n",
    "\n",
    "print_ram()\n",
    "print(\"Antwort:\", answer)"
   ],
   "id": "b54baaed7322f6f5",
   "outputs": [
    {
     "name": "stdout",
     "output_type": "stream",
     "text": [
      "RAM usage: 356.55 MB\n",
      "RAM usage: 418.12 MB\n",
      "RAM usage: 418.12 MB\n",
      "Antwort: MOVE FORWARD 10;\n"
     ]
    }
   ],
   "execution_count": 7
  },
  {
   "metadata": {
    "ExecuteTime": {
     "end_time": "2025-05-15T08:59:29.801240Z",
     "start_time": "2025-05-15T08:58:54.786652Z"
    }
   },
   "cell_type": "code",
   "source": [
    "while True:\n",
    "    user_input = input(\"User: \")\n",
    "    prompt = (\n",
    "        \"<|im_start|>system\\nYou are a helpful assistant.<|im_end|>\\n\"\n",
    "        f\"<|im_start|>user\\n{user_input}<|im_end|>\\n\"\n",
    "        \"<|im_start|>assistant\\n\"\n",
    "    )\n",
    "    inputs = tokenizer(prompt, return_tensors=\"pt\").to(model.device)\n",
    "    output = model.generate(**inputs, max_new_tokens=256, temperature=0.7, do_sample=True, top_p=0.9)\n",
    "    decoded = tokenizer.decode(output[0], skip_special_tokens=False)\n",
    "    if \"<|im_start|>assistant\\n\" in decoded:\n",
    "        answer = decoded.split(\"<|im_start|>assistant\\n\", 1)[1]\n",
    "        answer = answer.split(\"<|im_end|>\", 1)[0].strip()\n",
    "    else:\n",
    "        answer = decoded\n",
    "    print(\"Assistant:\", answer)"
   ],
   "id": "9f8436359a77e48",
   "outputs": [
    {
     "name": "stdout",
     "output_type": "stream",
     "text": [
      "Assistant: COMMAND NOT RECOGNIZED;\n",
      "Assistant: COMMAND NOT RECOGNIZED;\n",
      "Assistant: COMMAND NOT RECOGNIZED;\n"
     ]
    },
    {
     "ename": "KeyboardInterrupt",
     "evalue": "Interrupted by user",
     "output_type": "error",
     "traceback": [
      "\u001B[0;31m---------------------------------------------------------------------------\u001B[0m",
      "\u001B[0;31mKeyboardInterrupt\u001B[0m                         Traceback (most recent call last)",
      "Cell \u001B[0;32mIn[9], line 2\u001B[0m\n\u001B[1;32m      1\u001B[0m \u001B[38;5;28;01mwhile\u001B[39;00m \u001B[38;5;28;01mTrue\u001B[39;00m:\n\u001B[0;32m----> 2\u001B[0m     user_input \u001B[38;5;241m=\u001B[39m \u001B[38;5;28;43minput\u001B[39;49m\u001B[43m(\u001B[49m\u001B[38;5;124;43m\"\u001B[39;49m\u001B[38;5;124;43mUser: \u001B[39;49m\u001B[38;5;124;43m\"\u001B[39;49m\u001B[43m)\u001B[49m\n\u001B[1;32m      3\u001B[0m     prompt \u001B[38;5;241m=\u001B[39m (\n\u001B[1;32m      4\u001B[0m         \u001B[38;5;124m\"\u001B[39m\u001B[38;5;124m<|im_start|>system\u001B[39m\u001B[38;5;130;01m\\n\u001B[39;00m\u001B[38;5;124mYou are a helpful assistant.<|im_end|>\u001B[39m\u001B[38;5;130;01m\\n\u001B[39;00m\u001B[38;5;124m\"\u001B[39m\n\u001B[1;32m      5\u001B[0m         \u001B[38;5;124mf\u001B[39m\u001B[38;5;124m\"\u001B[39m\u001B[38;5;124m<|im_start|>user\u001B[39m\u001B[38;5;130;01m\\n\u001B[39;00m\u001B[38;5;132;01m{\u001B[39;00muser_input\u001B[38;5;132;01m}\u001B[39;00m\u001B[38;5;124m<|im_end|>\u001B[39m\u001B[38;5;130;01m\\n\u001B[39;00m\u001B[38;5;124m\"\u001B[39m\n\u001B[1;32m      6\u001B[0m         \u001B[38;5;124m\"\u001B[39m\u001B[38;5;124m<|im_start|>assistant\u001B[39m\u001B[38;5;130;01m\\n\u001B[39;00m\u001B[38;5;124m\"\u001B[39m\n\u001B[1;32m      7\u001B[0m     )\n\u001B[1;32m      8\u001B[0m     inputs \u001B[38;5;241m=\u001B[39m tokenizer(prompt, return_tensors\u001B[38;5;241m=\u001B[39m\u001B[38;5;124m\"\u001B[39m\u001B[38;5;124mpt\u001B[39m\u001B[38;5;124m\"\u001B[39m)\u001B[38;5;241m.\u001B[39mto(model\u001B[38;5;241m.\u001B[39mdevice)\n",
      "File \u001B[0;32m~/Documents/Entwicklung/whisper_attention_investigation/tiny-ml/.venv/lib/python3.10/site-packages/ipykernel/kernelbase.py:1282\u001B[0m, in \u001B[0;36mKernel.raw_input\u001B[0;34m(self, prompt)\u001B[0m\n\u001B[1;32m   1280\u001B[0m     msg \u001B[38;5;241m=\u001B[39m \u001B[38;5;124m\"\u001B[39m\u001B[38;5;124mraw_input was called, but this frontend does not support input requests.\u001B[39m\u001B[38;5;124m\"\u001B[39m\n\u001B[1;32m   1281\u001B[0m     \u001B[38;5;28;01mraise\u001B[39;00m StdinNotImplementedError(msg)\n\u001B[0;32m-> 1282\u001B[0m \u001B[38;5;28;01mreturn\u001B[39;00m \u001B[38;5;28;43mself\u001B[39;49m\u001B[38;5;241;43m.\u001B[39;49m\u001B[43m_input_request\u001B[49m\u001B[43m(\u001B[49m\n\u001B[1;32m   1283\u001B[0m \u001B[43m    \u001B[49m\u001B[38;5;28;43mstr\u001B[39;49m\u001B[43m(\u001B[49m\u001B[43mprompt\u001B[49m\u001B[43m)\u001B[49m\u001B[43m,\u001B[49m\n\u001B[1;32m   1284\u001B[0m \u001B[43m    \u001B[49m\u001B[38;5;28;43mself\u001B[39;49m\u001B[38;5;241;43m.\u001B[39;49m\u001B[43m_parent_ident\u001B[49m\u001B[43m[\u001B[49m\u001B[38;5;124;43m\"\u001B[39;49m\u001B[38;5;124;43mshell\u001B[39;49m\u001B[38;5;124;43m\"\u001B[39;49m\u001B[43m]\u001B[49m\u001B[43m,\u001B[49m\n\u001B[1;32m   1285\u001B[0m \u001B[43m    \u001B[49m\u001B[38;5;28;43mself\u001B[39;49m\u001B[38;5;241;43m.\u001B[39;49m\u001B[43mget_parent\u001B[49m\u001B[43m(\u001B[49m\u001B[38;5;124;43m\"\u001B[39;49m\u001B[38;5;124;43mshell\u001B[39;49m\u001B[38;5;124;43m\"\u001B[39;49m\u001B[43m)\u001B[49m\u001B[43m,\u001B[49m\n\u001B[1;32m   1286\u001B[0m \u001B[43m    \u001B[49m\u001B[43mpassword\u001B[49m\u001B[38;5;241;43m=\u001B[39;49m\u001B[38;5;28;43;01mFalse\u001B[39;49;00m\u001B[43m,\u001B[49m\n\u001B[1;32m   1287\u001B[0m \u001B[43m\u001B[49m\u001B[43m)\u001B[49m\n",
      "File \u001B[0;32m~/Documents/Entwicklung/whisper_attention_investigation/tiny-ml/.venv/lib/python3.10/site-packages/ipykernel/kernelbase.py:1325\u001B[0m, in \u001B[0;36mKernel._input_request\u001B[0;34m(self, prompt, ident, parent, password)\u001B[0m\n\u001B[1;32m   1322\u001B[0m \u001B[38;5;28;01mexcept\u001B[39;00m \u001B[38;5;167;01mKeyboardInterrupt\u001B[39;00m:\n\u001B[1;32m   1323\u001B[0m     \u001B[38;5;66;03m# re-raise KeyboardInterrupt, to truncate traceback\u001B[39;00m\n\u001B[1;32m   1324\u001B[0m     msg \u001B[38;5;241m=\u001B[39m \u001B[38;5;124m\"\u001B[39m\u001B[38;5;124mInterrupted by user\u001B[39m\u001B[38;5;124m\"\u001B[39m\n\u001B[0;32m-> 1325\u001B[0m     \u001B[38;5;28;01mraise\u001B[39;00m \u001B[38;5;167;01mKeyboardInterrupt\u001B[39;00m(msg) \u001B[38;5;28;01mfrom\u001B[39;00m\u001B[38;5;250m \u001B[39m\u001B[38;5;28;01mNone\u001B[39;00m\n\u001B[1;32m   1326\u001B[0m \u001B[38;5;28;01mexcept\u001B[39;00m \u001B[38;5;167;01mException\u001B[39;00m:\n\u001B[1;32m   1327\u001B[0m     \u001B[38;5;28mself\u001B[39m\u001B[38;5;241m.\u001B[39mlog\u001B[38;5;241m.\u001B[39mwarning(\u001B[38;5;124m\"\u001B[39m\u001B[38;5;124mInvalid Message:\u001B[39m\u001B[38;5;124m\"\u001B[39m, exc_info\u001B[38;5;241m=\u001B[39m\u001B[38;5;28;01mTrue\u001B[39;00m)\n",
      "\u001B[0;31mKeyboardInterrupt\u001B[0m: Interrupted by user"
     ]
    }
   ],
   "execution_count": 9
  }
 ],
 "metadata": {
  "kernelspec": {
   "display_name": "Python 3",
   "language": "python",
   "name": "python3"
  },
  "language_info": {
   "codemirror_mode": {
    "name": "ipython",
    "version": 2
   },
   "file_extension": ".py",
   "mimetype": "text/x-python",
   "name": "python",
   "nbconvert_exporter": "python",
   "pygments_lexer": "ipython2",
   "version": "2.7.6"
  }
 },
 "nbformat": 4,
 "nbformat_minor": 5
}
