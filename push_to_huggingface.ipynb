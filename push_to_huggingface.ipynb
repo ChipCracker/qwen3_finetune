{
 "cells": [
  {
   "cell_type": "code",
   "id": "initial_id",
   "metadata": {
    "collapsed": true,
    "ExecuteTime": {
     "end_time": "2025-05-15T13:27:49.601420Z",
     "start_time": "2025-05-15T13:25:29.255607Z"
    }
   },
   "source": [
    "import os\n",
    "import re\n",
    "from transformers import AutoModelForCausalLM, AutoTokenizer\n",
    "from huggingface_hub import HfApi, create_repo, upload_folder\n",
    "\n",
    "# === KONFIGURATION ===\n",
    "OUTPUT_DIR = \"/Volumes/DATA SSD/LLMs/finetunes/qwen3_0.6B\"\n",
    "REPO_ID = \"ChipCracker/qwen3-0.6B_robo_voice_control_finetune\"\n",
    "\n",
    "# === Finde letzten Checkpoint ===\n",
    "def find_latest_checkpoint(output_dir):\n",
    "    checkpoints = [\n",
    "        d for d in os.listdir(output_dir)\n",
    "        if re.match(r\"checkpoint-\\d+\", d) and os.path.isdir(os.path.join(output_dir, d))\n",
    "    ]\n",
    "    if not checkpoints:\n",
    "        raise RuntimeError(\"Kein Checkpoint gefunden!\")\n",
    "    checkpoints.sort(key=lambda x: int(x.split('-')[1]))\n",
    "    return os.path.join(output_dir, checkpoints[-1])\n",
    "\n",
    "latest_checkpoint = find_latest_checkpoint(OUTPUT_DIR)\n",
    "print(f\"Letzter Checkpoint: {latest_checkpoint}\")\n",
    "\n",
    "# === Modell und Tokenizer laden ===\n",
    "model = AutoModelForCausalLM.from_pretrained(latest_checkpoint, trust_remote_code=True)\n",
    "tokenizer = AutoTokenizer.from_pretrained(latest_checkpoint, trust_remote_code=True)\n",
    "\n",
    "# === HF-Repository vorbereiten ===\n",
    "api = HfApi()\n",
    "try:\n",
    "    create_repo(repo_id=REPO_ID, exist_ok=True, private=True)\n",
    "except Exception as e:\n",
    "    print(f\"Warnung: Repo existiert schon oder Fehler beim Erstellen: {e}\")\n",
    "\n",
    "# === Modell und Tokenizer hochladen ===\n",
    "model.push_to_hub(REPO_ID)\n",
    "tokenizer.push_to_hub(REPO_ID)\n",
    "\n",
    "print(f\"Modell wurde nach {REPO_ID} hochgeladen.\")"
   ],
   "outputs": [
    {
     "name": "stderr",
     "output_type": "stream",
     "text": [
      "/Users/christopherwitzl/Documents/Entwicklung/tiny-ml/.venv/lib/python3.12/site-packages/tqdm/auto.py:21: TqdmWarning: IProgress not found. Please update jupyter and ipywidgets. See https://ipywidgets.readthedocs.io/en/stable/user_install.html\n",
      "  from .autonotebook import tqdm as notebook_tqdm\n"
     ]
    },
    {
     "name": "stdout",
     "output_type": "stream",
     "text": [
      "Letzter Checkpoint: /Volumes/DATA SSD/LLMs/finetunes/qwen3_0.6B/checkpoint-310\n"
     ]
    },
    {
     "name": "stderr",
     "output_type": "stream",
     "text": [
      "model.safetensors: 100%|██████████| 2.38G/2.38G [01:35<00:00, 24.9MB/s]\n",
      "tokenizer.json: 100%|██████████| 11.4M/11.4M [00:00<00:00, 26.9MB/s]\n"
     ]
    },
    {
     "name": "stdout",
     "output_type": "stream",
     "text": [
      "Modell wurde nach ChipCracker/qwen3-0.6B_robo_voice_control_finetune hochgeladen.\n"
     ]
    }
   ],
   "execution_count": 1
  }
 ],
 "metadata": {
  "kernelspec": {
   "display_name": "Python 3",
   "language": "python",
   "name": "python3"
  },
  "language_info": {
   "codemirror_mode": {
    "name": "ipython",
    "version": 2
   },
   "file_extension": ".py",
   "mimetype": "text/x-python",
   "name": "python",
   "nbconvert_exporter": "python",
   "pygments_lexer": "ipython2",
   "version": "2.7.6"
  }
 },
 "nbformat": 4,
 "nbformat_minor": 5
}
